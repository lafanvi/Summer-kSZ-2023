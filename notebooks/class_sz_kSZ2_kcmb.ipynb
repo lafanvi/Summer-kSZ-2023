{
 "cells": [
  {
   "cell_type": "markdown",
   "metadata": {},
   "source": [
    "# Notebook initialization:\n"
   ]
  },
  {
   "cell_type": "code",
   "execution_count": 1,
   "metadata": {},
   "outputs": [
    {
     "name": "stderr",
     "output_type": "stream",
     "text": [
      "2023-08-08 15:27:36.106223: W tensorflow/compiler/tf2tensorrt/utils/py_utils.cc:38] TF-TRT Warning: Could not find TensorRT\n"
     ]
    },
    {
     "name": "stdout",
     "output_type": "stream",
     "text": [
      "WARNING:tensorflow:Please fix your imports. Module tensorflow.python.training.tracking.data_structures has been moved to tensorflow.python.trackable.data_structures. The old module will be deleted in version 2.11.\n"
     ]
    },
    {
     "name": "stderr",
     "output_type": "stream",
     "text": [
      "2023-08-08 15:27:45.367706: E tensorflow/compiler/xla/stream_executor/cuda/cuda_driver.cc:266] failed call to cuInit: CUDA_ERROR_NO_DEVICE: no CUDA-capable device is detected\n"
     ]
    }
   ],
   "source": [
    "# import necessary modules\n",
    "# uncomment to get plots displayed in notebook\n",
    "%matplotlib inline\n",
    "import matplotlib\n",
    "import matplotlib.pyplot as plt\n",
    "import numpy as np\n",
    "from classy_sz import Class\n",
    "from scipy.optimize import fsolve\n",
    "from scipy.interpolate import interp1d\n",
    "import math\n",
    "import healpy as hp\n",
    "\n",
    "font = {'family':'STIXGeneral'}\n",
    "axislabelfontsize='large'\n",
    "matplotlib.rc('font', **font)\n",
    "\n",
    "plt.rcParams.update({\n",
    "    \"text.usetex\": True,\n",
    "    \"font.family\": \"sans-serif\",\n",
    "    \"font.sans-serif\": [\"Helvetica\"]})\n",
    "\n",
    "\n",
    "\n",
    "\n",
    "import os \n",
    "path_to_class_sz = \"/mnt/home/lafko/maincode/first_venv/Class_sz/class_sz/\""
   ]
  },
  {
   "cell_type": "code",
   "execution_count": 2,
   "metadata": {},
   "outputs": [],
   "source": [
    "plt.rcParams.update(plt.rcParamsDefault)"
   ]
  },
  {
   "cell_type": "markdown",
   "metadata": {},
   "source": [
    "# Settings"
   ]
  },
  {
   "cell_type": "code",
   "execution_count": 3,
   "metadata": {},
   "outputs": [],
   "source": [
    "\n",
    "common_settings = {\n",
    "                   # LambdaCDM parameters\n",
    "                   'H0':68,\n",
    "                   'omega_b':0.0226576,\n",
    "                   'omega_cdm':0.1206864,\n",
    "                   'sigma8': 0.81,\n",
    "                   #'ln10^{10}A_s': 3.047,\n",
    "                   'n_s': 0.965,\n",
    "                   'tau_reio':0.055,\n",
    "                   # Take fixed value for primordial Helium (instead of automatic BBN adjustment)\n",
    "                   # 'YHe':0.246,\n",
    "}\n",
    "\n",
    "# best-fit from Kusiak et al. https://arxiv.org/pdf/2203.12583.pdf\n",
    "\n",
    "HOD_blue = {\n",
    "'sigma_log10M_HOD': 0.68660116,\n",
    "'alpha_s_HOD':    1.3039425,\n",
    "'M1_prime_HOD': 10**12.701308, # Msun/h\n",
    "'M_min_HOD': 10**11.795964, # Msun/h\n",
    "'M0_HOD' :0,\n",
    "'x_out_truncated_nfw_profile_satellite_galaxies':  1.0868995,\n",
    "'f_cen_HOD' : 1., \n",
    "'full_path_to_dndz_gal': path_to_class_sz + 'class_sz_auxiliary_files/normalised_dndz_cosmos_0.txt',\n",
    "}\n",
    "\n",
    "\n",
    "#unWISE_common = {\n",
    "#'galaxy_sample': 'custom',\n",
    "#'M0 equal M_min (HOD)':'no',\n",
    "#'x_out_truncated_nfw_profile': 1.0,\n",
    "    \n",
    "    \n",
    "#'z_min': 0.005,\n",
    "#'z_max': 3.,\n",
    "#'M_min': 1e10,\n",
    "#'M_max': 3.5e15,\n",
    "\n",
    "#'nfw_profile_epsabs' : 1e-33,\n",
    "#'nfw_profile_epsrel' : 0.001,\n",
    "    \n",
    "    \n",
    "# 'use_fft_for_profiles_transform' : 1,\n",
    "    \n",
    "    \n",
    "#'x_min_gas_density_fftw' : 1e-5,\n",
    "#'x_max_gas_density_fftw' : 1e4,\n",
    "    \n",
    "    \n",
    "#'redshift_epsabs': 1.0e-40,\n",
    "#'redshift_epsrel': 0.001,\n",
    "#'mass_epsabs': 1.0e-40,\n",
    "#'mass_epsrel': 0.001,\n",
    "\n",
    "\n",
    "\n",
    "#'hm_consistency': 1,\n",
    "\n",
    "\n",
    "#'delta for galaxies': \"200c\",\n",
    "#'delta for matter density': \"200c\",\n",
    "#'mass function': 'T08M200c',\n",
    "#'concentration parameter': 'B13' ,\n",
    "    \n",
    "\n",
    "#}\n",
    "\n"
   ]
  },
  {
   "cell_type": "code",
   "execution_count": 4,
   "metadata": {},
   "outputs": [],
   "source": [
    "# the parameters needed for the ksz calculations:\n",
    "ksz_params = {\n",
    "#fiducial ksz params\n",
    "\n",
    "#'k_min_for_pk_class_sz' : 0.001, the original one\n",
    "'k_min_for_pk_in_vrms2': 1e-4,# the updated one\n",
    "'k_max_for_pk_class_sz' : 7,\n",
    "'k_per_decade_class_sz' : 50,\n",
    "'P_k_max_h/Mpc' : 50.0,\n",
    "\n",
    "'nfw_profile_epsabs' : 1e-33,\n",
    "'nfw_profile_epsrel' : 0.001,\n",
    "\n",
    "\n",
    "'ndim_masses' : 80,\n",
    "'ndim_redshifts' : 50,\n",
    "\n",
    "\n",
    "\n",
    "\n",
    "'n_k_density_profile' : 50,\n",
    "'n_m_density_profile' : 50,\n",
    "'n_z_density_profile' : 50,\n",
    "'k_per_decade_for_pk' : 50,\n",
    "'z_max_pk' : 4.0,\n",
    "    \n",
    "# some settings to try more points to avoid numerical noise in some cases:\n",
    "# 'ndim_masses' : 100,\n",
    "# 'ndim_redshifts' : 100,\n",
    "# 'n_ell_density_profile' : 100,\n",
    "# 'n_m_density_profile' : 100,\n",
    "# 'n_z_density_profile' : 100,\n",
    "    \n",
    "\n",
    "# slow:\n",
    "# 'n_z_psi_b1g' : 100,\n",
    "# 'n_l_psi_b1g' : 400,\n",
    "\n",
    "# 'n_z_psi_b2g' : 100,\n",
    "# 'n_l_psi_b2g' : 400,\n",
    "\n",
    "# 'n_z_psi_b2t' : 100,\n",
    "# 'n_l_psi_b2t' : 400,\n",
    "\n",
    "# 'n_z_psi_b1t' : 100,\n",
    "# 'n_l_psi_b1t' : 100,\n",
    "\n",
    "# 'n_z_psi_b1gt' : 100,\n",
    "# 'n_l_psi_b1gt' : 100,\n",
    "    \n",
    "    \n",
    "# fast:\n",
    "'n_z_psi_b1g' : 50,\n",
    "'n_l_psi_b1g' : 50,\n",
    "\n",
    "'n_z_psi_b2g' : 50,\n",
    "'n_l_psi_b2g' : 50,\n",
    "\n",
    "'n_z_psi_b2t' : 50,\n",
    "'n_l_psi_b2t' : 50,\n",
    "\n",
    "'n_z_psi_b1t' : 50,\n",
    "'n_l_psi_b1t' : 50,\n",
    "\n",
    "'n_z_psi_b1gt' : 50,\n",
    "'n_l_psi_b1gt' : 50,\n",
    "\n",
    "'N_samp_fftw' : 1024, # fast: 800 ;  slow: 2000\n",
    "'l_min_samp_fftw' : 1e-9,\n",
    "'l_max_samp_fftw' : 1e9,\n",
    "    \n",
    "}"
   ]
  },
  {
   "cell_type": "markdown",
   "metadata": {},
   "source": [
    "# Compute"
   ]
  },
  {
   "cell_type": "code",
   "execution_count": 52,
   "metadata": {},
   "outputs": [
    {
     "name": "stdout",
     "output_type": "stream",
     "text": [
      "CPU times: user 6h 21min 21s, sys: 764 ms, total: 6h 21min 22s\n",
      "Wall time: 9min 35s\n"
     ]
    }
   ],
   "source": [
    "%%time\n",
    "M = Class()\n",
    "M.set(common_settings)\n",
    "#M.set(HOD_blue)\n",
    "#M.set(unWISE_common)\n",
    "M.set(ksz_params)\n",
    "M.set({\n",
    "'output': 'kSZ_kSZ_lens fft (1h),kSZ_kSZ_lens fft (2h),kSZ_kSZ_lens fft (3h)',    \n",
    "    \n",
    "# for effective approach calculation of kSZ2g, i.e.,kSZ_kSZ_gal_hf also set:\n",
    "# 'N_kSZ2_gal_multipole_grid' :  70,\n",
    "# 'N_kSZ2_gal_theta_grid' :  70,\n",
    "# 'ell_min_kSZ2_gal_multipole_grid' : 2.,\n",
    "# 'ell_max_kSZ2_gal_multipole_grid' : 2e5,\n",
    "\n",
    "#'ksz_filter_file' : path_to_class_sz + 'class_sz_auxiliary_files/s4_fl_A_170422.txt',         \n",
    "    \n",
    "'ksz_filter_file' : path_to_class_sz + 'class_sz_auxiliary_files/s4_fl_A_170422.txt',\n",
    "\n",
    "#'dlogell' : 0.1,\n",
    "\"dell\" : 50,\n",
    "'ell_max' : 10000.0,\n",
    "'ell_min' : 10.0,\n",
    "\n",
    "'gas profile' : 'B16', # set NFW profile #BCM\n",
    "'gas profile mode' : 'custom', #shock (adiabatic) alpha_m_alpha (agn) A_alpha A_beta\n",
    "    #now to specify the,\n",
    "'A_rho0' : 4.0e3,\n",
    "'A_alpha' : 1.00,\n",
    "'A_beta' : 3.83,\n",
    "    \n",
    "'alpha_m_rho0' : 0.29,\n",
    "'alpha_m_alpha' : -0.03,\n",
    "'alpha_m_beta' : 0.04,\n",
    "    \n",
    "'alpha_z_rho0' : -0.66,\n",
    "'alpha_z_alpha' : 0.19,\n",
    "'alpha_z_beta' : -0.025,\n",
    " \n",
    "'x_out_truncated_nfw_profile' : 4.0,\n",
    "'normalize_gas_density_profile' : 0,\n",
    "'use_xout_in_density_profile_from_enclosed_mass' : 1,\n",
    "    \n",
    "# 'use_fft_for_profiles_transform' : 1,    \n",
    "\n",
    "'use_bg_at_z_in_ksz2g_eff' : 1,\n",
    "'non_linear' : 'halofit',\n",
    "      })\n",
    "\n",
    "M.compute()\n",
    "#M.compute_class_szfast()\n",
    "cl_kSZ_kSZ_kcmb = M.cl_kSZ_kSZ_kcmb()"
   ]
  },
  {
   "cell_type": "code",
   "execution_count": 53,
   "metadata": {},
   "outputs": [],
   "source": [
    "cl_kSZ_kSZ_g = cl_kSZ_kSZ_kcmb"
   ]
  },
  {
   "cell_type": "markdown",
   "metadata": {
    "tags": []
   },
   "source": [
    "# Simulation (Websky)"
   ]
  },
  {
   "cell_type": "code",
   "execution_count": 54,
   "metadata": {},
   "outputs": [],
   "source": [
    "ksz_kap_sim = hp.read_cl(\"ksz_kap_corr\")"
   ]
  },
  {
   "cell_type": "code",
   "execution_count": 55,
   "metadata": {},
   "outputs": [],
   "source": [
    "ksz_kap_2pi = hp.read_cl(\"ksz_kap_2pi\")"
   ]
  },
  {
   "cell_type": "code",
   "execution_count": 56,
   "metadata": {},
   "outputs": [],
   "source": [
    "ksz_kap_bin50 = np.loadtxt(\"binned_corr\")"
   ]
  },
  {
   "cell_type": "code",
   "execution_count": 57,
   "metadata": {},
   "outputs": [],
   "source": [
    "bin50 = np.arange(75, 10000, 50)"
   ]
  },
  {
   "cell_type": "code",
   "execution_count": 58,
   "metadata": {},
   "outputs": [],
   "source": [
    "#type(ksz_kap_sim)"
   ]
  },
  {
   "cell_type": "code",
   "execution_count": 59,
   "metadata": {},
   "outputs": [],
   "source": [
    "ell_ksz_kap_sim = np.arange(len(ksz_kap_sim))"
   ]
  },
  {
   "cell_type": "code",
   "execution_count": 60,
   "metadata": {},
   "outputs": [],
   "source": [
    "# loading filters\n",
    "s4_corr = np.loadtxt(\"kcmb_data/s4_kcmb_corr\", delimiter = \",\")\n",
    "so_corr = np.loadtxt(\"kcmb_data/so_kcmb_corr\", delimiter = \",\")\n",
    "planck_corr = np.loadtxt(\"kcmb_data/plank_kcmb_corr\", delimiter = \",\")"
   ]
  },
  {
   "cell_type": "code",
   "execution_count": 61,
   "metadata": {},
   "outputs": [],
   "source": [
    "bin50 = np.arange(75, 10000, 50)"
   ]
  },
  {
   "cell_type": "markdown",
   "metadata": {},
   "source": [
    "# Plot"
   ]
  },
  {
   "cell_type": "code",
   "execution_count": null,
   "metadata": {},
   "outputs": [],
   "source": []
  },
  {
   "cell_type": "code",
   "execution_count": 62,
   "metadata": {},
   "outputs": [
    {
     "data": {
      "image/png": "[encoded data removed]",
      "text/plain": [
       "<Figure size 700x400 with 1 Axes>"
      ]
     },
     "metadata": {},
     "output_type": "display_data"
    }
   ],
   "source": [
    "label_size = 17\n",
    "title_size = 18\n",
    "legend_size = 13\n",
    "handle_length = 1.5\n",
    "fig, (ax1) = plt.subplots(1,1,figsize=(7,4))\n",
    "ax = ax1\n",
    "ax.tick_params(axis = 'x',which='both',length=5,direction='in', pad=10)\n",
    "ax.tick_params(axis = 'y',which='both',length=5,direction='in', pad=5)\n",
    "ax.xaxis.set_ticks_position('both')\n",
    "ax.yaxis.set_ticks_position('both')\n",
    "plt.setp(ax.get_yticklabels(), rotation='horizontal', fontsize=label_size)\n",
    "plt.setp(ax.get_xticklabels(), fontsize=label_size)\n",
    "ax.grid( visible=True, which=\"both\", alpha=0.2, linestyle='--')\n",
    "\n",
    "ax.set_xscale('log')\n",
    "ax.set_yscale('log')\n",
    "ax.set_ylim(1e-4,1.5e-1)\n",
    "ax.set_xlim(50,9000)\n",
    "\n",
    "fac = (2.726e6)**2*np.asarray(cl_kSZ_kSZ_g['ell'])*(np.asarray(cl_kSZ_kSZ_g['ell'])+1.)/2./np.pi\n",
    "\n",
    "#ax.plot(cl_kSZ_kSZ_g['ell'],fac*np.asarray(cl_kSZ_kSZ_g['1h']),c='k',ls=':',lw=0.7)\n",
    "#ax.plot(cl_kSZ_kSZ_g['ell'],fac*np.asarray(cl_kSZ_kSZ_g['2h']),c='b',ls='-.',lw=0.7)\n",
    "#ax.plot(cl_kSZ_kSZ_g['ell'],fac*np.asarray(cl_kSZ_kSZ_g['3h']),c='orange',ls='--',lw=0.7)\n",
    "#ax.plot(cl_kSZ_kSZ_g['ell'],fac*(np.asarray(cl_kSZ_kSZ_g['1h'])+np.asarray(cl_kSZ_kSZ_g['2h'])+np.asarray(cl_kSZ_kSZ_g['3h'])),\n",
    "#        c='k',ls='-',lw=1.)\n",
    "\n",
    "#ax.plot(cl_kSZ_kSZ_g['ell'],fac*np.asarray(cl_kSZ_kSZ_g['1h']),label = r'$1\\mathrm{h}$',c='k',ls=':',lw=0.7)\n",
    "#ax.plot(cl_kSZ_kSZ_g['ell'],fac*np.asarray(cl_kSZ_kSZ_g['2h']),label = r'$2\\mathrm{h}$',c='b',ls='-.',lw=0.7)\n",
    "#ax.plot(cl_kSZ_kSZ_g['ell'],fac*np.asarray(cl_kSZ_kSZ_g['3h']),label = r'$3\\mathrm{h}$',c='orange',ls='--',lw=0.7)\n",
    "ax.plot(cl_kSZ_kSZ_g['ell'],fac*(np.asarray(cl_kSZ_kSZ_g['1h'])+np.asarray(cl_kSZ_kSZ_g['2h'])+np.asarray(cl_kSZ_kSZ_g['3h'])),\n",
    "        label = r'class_sz (total w filter)',c='k',ls='-',lw=1.)\n",
    "#ax.plot(ell_ksz_kap_sim, ell_ksz_kap_sim * (ell_ksz_kap_sim + 1) * ksz_kap_sim, #forgetting 2pi\n",
    " #       label = \"Sim. result\",c='k',ls='dotted',lw=1.)\n",
    "#ax.plot(ell_ksz_kap_sim, ell_ksz_kap_sim * (ell_ksz_kap_sim + 1) * ksz_kap_2pi, #with 2pi\n",
    " #       label = \"Sim. result\",c='k',ls='dotted',lw=1.)\n",
    "#ax.plot(bin50, bin50 * (bin50 + 1) * ksz_kap_bin50, #with 2pi\n",
    " #       label = \"Sim. result (bin)\",c='red',ls='-',lw=1\n",
    "    \n",
    "# \n",
    "#ax.plot(bin50, bin50 * (bin50 + 1)/(2*np.pi) * so_corr, #simons observatory filter\n",
    " #       label = \"Websky (so filter)\",c='red',ls='-',lw=1.)\n",
    "ax.plot(bin50, bin50 * (bin50 + 1) * s4_corr, #with 2pi s4 filter\n",
    "        label = \"Websky (s4 filter)\",c='blue',ls='-',lw=1.)\n",
    "#ax.plot(bin50, bin50 * (bin50 + 1)/(2*np.pi) * planck_corr, #planck filter\n",
    "#        label = \"Websky (planck)\",c='purple',ls='-',lw=1.)\n",
    "\n",
    "\n",
    "ax.legend(loc=2,ncol = 1,frameon=False,fontsize=14)\n",
    "ax.set_xlabel(r\"$\\ell$\",size=title_size)\n",
    "ax.set_ylabel(\"kSZ^2-lens cross spectrum\",size=title_size)\n",
    "fig.tight_layout()\n",
    "# fig.suptitle('Projected-field kSZ$^2$-Galaxy',fontsize=16)\n",
    "fig.tight_layout()\n",
    "plt.show()\n",
    "#plt.savefig('figures/class_sz_ksz2galaxy.pdf')"
   ]
  },
  {
   "cell_type": "code",
   "execution_count": 63,
   "metadata": {},
   "outputs": [],
   "source": [
    "total = fac*(np.asarray(cl_kSZ_kSZ_g['1h']) + np.asarray(cl_kSZ_kSZ_g['2h']) +np.asarray(cl_kSZ_kSZ_g['3h']))"
   ]
  },
  {
   "cell_type": "code",
   "execution_count": 17,
   "metadata": {},
   "outputs": [],
   "source": [
    "#cl_kSZ_kSZ_g[\"ell\"]"
   ]
  },
  {
   "cell_type": "code",
   "execution_count": 18,
   "metadata": {},
   "outputs": [],
   "source": [
    "#np.asarray(cl_kSZ_kSZ_g[\"ell\"])"
   ]
  },
  {
   "cell_type": "code",
   "execution_count": 64,
   "metadata": {},
   "outputs": [],
   "source": [
    "ell_NFW = np.savetxt(\"kcmb_data/alphamore_2\", total, delimiter = \",\")"
   ]
  },
  {
   "cell_type": "code",
   "execution_count": 46,
   "metadata": {},
   "outputs": [],
   "source": [
    "#np.savetxt(\"kcmb_data/alpha_ell\", cl_kSZ_kSZ_g['ell'], delimiter = \",\")"
   ]
  },
  {
   "cell_type": "code",
   "execution_count": null,
   "metadata": {},
   "outputs": [],
   "source": [
    "#cl_kSZ_kSZ_g['1h']"
   ]
  },
  {
   "cell_type": "code",
   "execution_count": null,
   "metadata": {},
   "outputs": [],
   "source": []
  },
  {
   "cell_type": "code",
   "execution_count": 20,
   "metadata": {},
   "outputs": [],
   "source": [
    "#ell_NFW"
   ]
  },
  {
   "cell_type": "code",
   "execution_count": 21,
   "metadata": {},
   "outputs": [],
   "source": [
    "#np.savetxt(\"kcmb_data/ell_NFW_tests\", np.asarray(cl_kSZ_kSZ_g[\"ell\"]), delimiter = \",\")"
   ]
  },
  {
   "cell_type": "code",
   "execution_count": 22,
   "metadata": {},
   "outputs": [],
   "source": [
    "#np.savetxt(\"kcmb_data/total_B16_agn_so_filter_kmin1e-4_kmax7\", total, delimiter = \",\")"
   ]
  },
  {
   "cell_type": "code",
   "execution_count": 23,
   "metadata": {},
   "outputs": [],
   "source": [
    "#!wget -c http://sns.ias.edu/~jch/S4_190604d_2LAT_T_default_noisecurves_deproj0_SENS0_mask_16000_ell_TT_yy.txt"
   ]
  },
  {
   "cell_type": "markdown",
   "metadata": {},
   "source": [
    "### for ratio plot"
   ]
  },
  {
   "cell_type": "code",
   "execution_count": 24,
   "metadata": {},
   "outputs": [],
   "source": [
    "#cl_kSZ_kSZ_g['ell']"
   ]
  },
  {
   "cell_type": "markdown",
   "metadata": {},
   "source": [
    "ell = np.around(np.asarray(cl_kSZ_kSZ_g['ell']))"
   ]
  },
  {
   "cell_type": "markdown",
   "metadata": {},
   "source": [
    "ksz_kap_bin50.size"
   ]
  },
  {
   "cell_type": "markdown",
   "metadata": {},
   "source": [
    "#print(np.asarray(cl_kSZ_kSZ_kcmb['ell']))"
   ]
  },
  {
   "cell_type": "markdown",
   "metadata": {},
   "source": [
    "total[0]"
   ]
  },
  {
   "cell_type": "markdown",
   "metadata": {},
   "source": [
    "ell"
   ]
  },
  {
   "cell_type": "code",
   "execution_count": 25,
   "metadata": {},
   "outputs": [],
   "source": [
    "#ksz_kap_2pi"
   ]
  },
  {
   "cell_type": "code",
   "execution_count": 26,
   "metadata": {},
   "outputs": [],
   "source": [
    "#idea 1: pick elements out of kszkap2pi that fall on the ell class_sz has\n",
    "#idea 2: pick elements and round them there\n",
    "#both will allow for arrays that are the same size as class_sz"
   ]
  },
  {
   "cell_type": "markdown",
   "metadata": {},
   "source": [
    "#idea 1\n",
    "\n",
    "count = 0\n",
    "#inner_count = 0\n",
    "new_sim_ratio_dat = []\n",
    "check = []\n",
    "\n",
    "while count < 7352:\n",
    "    \n",
    "    if count in ell:\n",
    "        new_sim_ratio_dat.append(ksz_kap_2pi[count])\n",
    "        check.append(ell_ksz_kap_sim[count])\n",
    "        #inner_count = inner_count + 1\n",
    "        \n",
    "    count = count +1\n",
    "        "
   ]
  },
  {
   "cell_type": "markdown",
   "metadata": {},
   "source": [
    "new_sim_ratio_dat = np.asarray(new_sim_ratio_dat)\n",
    "ratio_idea1 = ell*(ell+1)*new_sim_ratio_dat/total"
   ]
  },
  {
   "cell_type": "markdown",
   "metadata": {},
   "source": [
    "plt.plot(ell, ratio_idea1)\n",
    "plt.xscale(\"log\")\n",
    "plt.yscale(\"log\")\n",
    "plt.title(\"Ratio of sim data to class_sz (HOD) trial 1\")\n",
    "plt.xlim(50, 10000)\n",
    "plt.show()"
   ]
  },
  {
   "cell_type": "markdown",
   "metadata": {},
   "source": [
    "#now for idea 2\n",
    "\n",
    "count = 0\n",
    "new_sim_ratio_dat_2 = []\n",
    "\n",
    "while count < 7352:\n",
    "    \n",
    "    if count in ell:\n",
    "        inner_count = count-5\n",
    "        add_val = 0\n",
    "        while inner_count < count +6:\n",
    "            add_val = add_val + ksz_kap_2pi[inner_count]\n",
    "            inner_count = inner_count + 1\n",
    "        \n",
    "        new_sim_ratio_dat_2.append(add_val/11)\n",
    "        \n",
    "    count = count +1\n",
    "        "
   ]
  },
  {
   "cell_type": "markdown",
   "metadata": {},
   "source": [
    "new_sim_ratio_dat_2 = np.asarray(new_sim_ratio_dat_2)\n",
    "ratio_idea2 = ell*(ell+1)*new_sim_ratio_dat_2/total"
   ]
  },
  {
   "cell_type": "code",
   "execution_count": 27,
   "metadata": {},
   "outputs": [],
   "source": [
    "#ell"
   ]
  },
  {
   "cell_type": "code",
   "execution_count": 28,
   "metadata": {},
   "outputs": [],
   "source": [
    "#total"
   ]
  },
  {
   "cell_type": "code",
   "execution_count": 29,
   "metadata": {},
   "outputs": [],
   "source": [
    "#new_sim_ratio_dat_2"
   ]
  },
  {
   "cell_type": "code",
   "execution_count": 30,
   "metadata": {},
   "outputs": [],
   "source": [
    "#ratio_idea2"
   ]
  },
  {
   "cell_type": "code",
   "execution_count": 31,
   "metadata": {},
   "outputs": [],
   "source": [
    "#plt.plot(ell, ratio_idea2)\n",
    "#plt.xscale(\"log\")\n",
    "#plt.yscale(\"log\")\n",
    "#plt.title(\"Ratio of sim data to class_sz (HOD) trial 2\")\n",
    "#plt.xlabel(\"$\\ell$\")\n",
    "#plt.xlim(50, 10000)\n",
    "#plt.show()"
   ]
  },
  {
   "cell_type": "markdown",
   "metadata": {},
   "source": [
    "### end of ratio plot code"
   ]
  },
  {
   "cell_type": "code",
   "execution_count": null,
   "metadata": {},
   "outputs": [],
   "source": []
  }
 ],
 "metadata": {
  "kernelspec": {
   "display_name": "work_env_7_17",
   "language": "python",
   "name": "work_env_7_17"
  },
  "language_info": {
   "codemirror_mode": {
    "name": "ipython",
    "version": 3
   },
   "file_extension": ".py",
   "mimetype": "text/x-python",
   "name": "python",
   "nbconvert_exporter": "python",
   "pygments_lexer": "ipython3",
   "version": "3.9.15"
  }
 },
 "nbformat": 4,
 "nbformat_minor": 4
}
