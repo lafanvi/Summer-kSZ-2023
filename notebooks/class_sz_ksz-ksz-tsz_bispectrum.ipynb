{
 "cells": [
  {
   "cell_type": "code",
   "execution_count": null,
   "metadata": {},
   "outputs": [],
   "source": []
  },
  {
   "cell_type": "markdown",
   "metadata": {},
   "source": [
    "# Notebook initialization:\n"
   ]
  },
  {
   "cell_type": "code",
   "execution_count": 1,
   "metadata": {},
   "outputs": [
    {
     "name": "stderr",
     "output_type": "stream",
     "text": [
      "2023-06-15 13:01:27.688169: W tensorflow/compiler/tf2tensorrt/utils/py_utils.cc:38] TF-TRT Warning: Could not find TensorRT\n"
     ]
    },
    {
     "name": "stdout",
     "output_type": "stream",
     "text": [
      "WARNING:tensorflow:Please fix your imports. Module tensorflow.python.training.tracking.data_structures has been moved to tensorflow.python.trackable.data_structures. The old module will be deleted in version 2.11.\n"
     ]
    },
    {
     "name": "stderr",
     "output_type": "stream",
     "text": [
      "2023-06-15 13:01:29.871025: E tensorflow/compiler/xla/stream_executor/cuda/cuda_driver.cc:266] failed call to cuInit: CUDA_ERROR_NO_DEVICE: no CUDA-capable device is detected\n"
     ]
    }
   ],
   "source": [
    "# import necessary modules\n",
    "# uncomment to get plots displayed in notebook\n",
    "\n",
    "import matplotlib\n",
    "import matplotlib.pyplot as plt\n",
    "%matplotlib inline\n",
    "import numpy as np\n",
    "from classy_sz import Class\n",
    "from scipy.optimize import fsolve\n",
    "from scipy.interpolate import interp1d\n",
    "import math\n",
    "\n",
    "font = {'size'   : 16, 'family':'STIXGeneral'}\n",
    "axislabelfontsize='large'\n",
    "matplotlib.rc('font', **font)\n",
    "plt.rcParams[\"figure.figsize\"] = [3.0,2.0]\n",
    "\n",
    "\n",
    "\n",
    "\n",
    "import os \n",
    "path_to_class_sz = os.getcwd() + '/../../'"
   ]
  },
  {
   "cell_type": "markdown",
   "metadata": {},
   "source": [
    "# Settings"
   ]
  },
  {
   "cell_type": "code",
   "execution_count": 2,
   "metadata": {},
   "outputs": [],
   "source": [
    "\n",
    "common_settings = {\n",
    "                   'mass function' : 'T08', \n",
    "                   'hm_consistency': 0,\n",
    "                   # 'concentration parameter': 'D08',  # Duffy et al 2008 \n",
    "}\n",
    "\n",
    "\n",
    "# copied from : https://github.com/simonsobs/websky_model/blob/a93bbf758432a936c0ec2b59775683b695d3d191/websky_model/websky.py#L55\n",
    "websky_Omega_M = 0.31\n",
    "websky_Omega_B = 0.049\n",
    "websky_Omega_L = 0.69\n",
    "websky_h = 0.68\n",
    "websky_sigma_8 = 0.81\n",
    "websky_n_s = 0.965\n",
    "\n",
    "\n",
    "websky_cosmo = {\n",
    "    'omega_b': websky_Omega_B*websky_h**2.,\n",
    "    'omega_cdm': (websky_Omega_M-websky_Omega_B)*websky_h**2.,\n",
    "    'h': websky_h,\n",
    "    'tau_reio': 0.0543,\n",
    "    'sigma8': websky_sigma_8,\n",
    "    'n_s': websky_n_s, \n",
    "    'use_websky_m200m_to_m200c_conversion': 1,\n",
    "    \n",
    "    'use_redshift_dependent_M_min': 1,\n",
    "    'full_path_to_redshift_dependent_M_min':path_to_class_sz+'class_sz_auxiliary_files/websky_halo_mass_completion_z_Mmin_in_Msun_over_h.txt',\n",
    "    #'M_min' : 1e10*websky_cosmo['h'], # not used\n",
    "    'M_max' : 1e16*websky_h,\n",
    "    'z_min' : 5e-3,\n",
    "    'z_max' : 4.6,\n",
    "}\n",
    "\n",
    "tsz_params ={\n",
    "\n",
    "       'pressure profile': 'B12',  # check source/input.c for default parameter values of Battaglia et al profile (B12)\n",
    "       'units for tSZ spectrum': 'dimensionless',\n",
    "       'n_k_pressure_profile' : 100,\n",
    "       'n_m_pressure_profile' : 100,\n",
    "       'n_z_pressure_profile' : 100,\n",
    "       'x_outSZ': 4.,\n",
    "       'truncate_wrt_rvir':0,\n",
    "       'pressure_profile_epsrel':1e-3,\n",
    "       'pressure_profile_epsabs':1e-40,\n",
    "        \n",
    "\n",
    "}"
   ]
  },
  {
   "cell_type": "markdown",
   "metadata": {},
   "source": [
    "# Compute"
   ]
  },
  {
   "cell_type": "code",
   "execution_count": null,
   "metadata": {},
   "outputs": [],
   "source": [
    "%%time \n",
    "M = Class()\n",
    "M.set({'output':'tSZ_1h,tSZ_2h,kSZ_kSZ_tSZ_1h,kSZ_kSZ_tSZ_2h,kSZ_kSZ_tSZ_3h'})\n",
    "\n",
    "M.set({\n",
    "    \n",
    "'dlogell' : 0.1, # increase to compute less ells for faster evaluation\n",
    "'ell_max' : 10000.0,\n",
    "'ell_min' : 2.0,    \n",
    "'use_fft_for_profiles_transform' : 1, \n",
    "    \n",
    "'bispectrum_lambda_2' :  1.,\n",
    "'bispectrum_lambda_3' :  1.,\n",
    "    \n",
    "'gas profile' : 'B16', # set gas density profile\n",
    "'gas profile mode' : 'agn',\n",
    "'normalize_gas_density_profile' : 0,\n",
    "'use_xout_in_density_profile_from_enclosed_mass' : 1,\n",
    "\n",
    "'Frequency for y-distortion in GHz' : 143.\n",
    "})\n",
    "\n",
    "M.set(common_settings)\n",
    "M.set(websky_cosmo)\n",
    "M.set(tsz_params)\n",
    "\n",
    "\n",
    "M.compute()"
   ]
  },
  {
   "cell_type": "code",
   "execution_count": null,
   "metadata": {},
   "outputs": [],
   "source": [
    "cl_sz = M.cl_sz()\n",
    "b_tty = M.b_tty()"
   ]
  },
  {
   "cell_type": "code",
   "execution_count": null,
   "metadata": {},
   "outputs": [],
   "source": [
    "label_size = 17\n",
    "title_size = 18\n",
    "legend_size = 13\n",
    "handle_length = 1.5\n",
    "fig, (ax1) = plt.subplots(1,1,figsize=(6,4))\n",
    "ax = ax1\n",
    "ax.tick_params(axis = 'x',which='both',length=5,direction='in', pad=10)\n",
    "ax.tick_params(axis = 'y',which='both',length=5,direction='in', pad=5)\n",
    "ax.xaxis.set_ticks_position('both')\n",
    "ax.yaxis.set_ticks_position('both')\n",
    "plt.setp(ax.get_yticklabels(), rotation='horizontal', fontsize=label_size)\n",
    "plt.setp(ax.get_xticklabels(), fontsize=label_size)\n",
    "ax.grid( visible=True, which=\"both\", alpha=0.2, linestyle='--')\n",
    "\n",
    "\n",
    "ax.plot(b_tty['ell'],np.abs(np.asarray(b_tty['1h'])+np.asarray(b_tty['2h'])+np.asarray(b_tty['3h'])),label='Total',c='r')\n",
    "ax.plot(b_tty['ell'],np.abs(np.asarray(b_tty['1h'])),label='1h',lw=0.7,ls='-',c='k')\n",
    "ax.plot(b_tty['ell'],np.abs(np.asarray(b_tty['2h'])),label='2h',lw=0.7,ls='--',c='orange')\n",
    "ax.plot(b_tty['ell'],np.abs(np.asarray(b_tty['3h'])),label='3h',lw=0.7,ls='-.',c='blue')\n",
    "\n",
    "ax.set_xscale('log')\n",
    "ax.set_yscale('log')\n",
    "\n",
    "\n",
    "ax.set_xlabel('$\\ell$',fontsize=18)\n",
    "ax.set_ylabel(r'$|B_{\\ell,\\ell,\\ell}^{\\tau\\tau y}|$ at 143 GHz',fontsize=18)\n",
    "ax.legend(loc=1,ncol = 1,frameon=False,fontsize=14)\n",
    "\n",
    "ax.set_xlim(2,1e4)\n",
    "ax.set_ylim(1e-28,1e-17)\n",
    "\n",
    "fig.tight_layout()\n",
    "# fig.suptitle('Projected-field kSZ$^2$-Galaxy',fontsize=16)\n",
    "fig.tight_layout()\n",
    "plt.savefig('../../notebooks/class_sz_tutorial_notebooks/figures/class_sz_tty.pdf')"
   ]
  },
  {
   "cell_type": "code",
   "execution_count": null,
   "metadata": {},
   "outputs": [],
   "source": []
  },
  {
   "cell_type": "code",
   "execution_count": null,
   "metadata": {},
   "outputs": [],
   "source": [
    "plt.figure(figsize=(12,8))\n",
    "\n",
    "ls_ws,dls_ws = np.loadtxt(path_to_class_sz+'class_sz_auxiliary_files/websky_april_8192.txt',unpack=True)\n",
    "\n",
    "plt.loglog(ls_ws,dls_ws*1e12,c='r',label='websky')\n",
    "plt.loglog(cl_sz['ell'],np.asarray(cl_sz['1h'])+np.asarray(cl_sz['2h']),label='class_sz')\n",
    "\n",
    "# plt.grid(which='both',alpha=0.2)\n",
    "plt.loglog()\n",
    "# plt.xlim(20,2e4)\n",
    "# plt.ylim(1,5e5)\n",
    "plt.yticks(fontsize=20)\n",
    "plt.xticks(fontsize=20)\n",
    "plt.xlabel('multipole',fontsize=22)\n",
    "plt.ylabel(r'$C_\\ell$  [tsz]',fontsize=22)\n",
    "# plt.title('353x353')\n",
    "plt.grid(which='both',alpha=0.2)\n",
    "plt.legend(fontsize=20)"
   ]
  },
  {
   "cell_type": "code",
   "execution_count": null,
   "metadata": {},
   "outputs": [],
   "source": []
  }
 ],
 "metadata": {
  "kernelspec": {
   "display_name": "env1",
   "language": "python",
   "name": "env1"
  },
  "language_info": {
   "codemirror_mode": {
    "name": "ipython",
    "version": 3
   },
   "file_extension": ".py",
   "mimetype": "text/x-python",
   "name": "python",
   "nbconvert_exporter": "python",
   "pygments_lexer": "ipython3",
   "version": "3.9.15"
  }
 },
 "nbformat": 4,
 "nbformat_minor": 4
}
